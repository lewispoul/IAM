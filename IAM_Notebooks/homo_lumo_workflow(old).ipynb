{
  "cells": [
    {
      "cell_type": "markdown",
      "metadata": {},
      "source": [
        "# IAM \u2013 HOMO/LUMO Workflow\n",
        "Ce notebook g\u00e9n\u00e8re une mol\u00e9cule \u00e0 partir d'un SMILES, lance une optimisation avec XTB, extrait HOMO/LUMO, et g\u00e9n\u00e8re les fichiers `.cube`."
      ]
    },
    {
      "cell_type": "code",
      "execution_count": null,
      "metadata": {},
      "outputs": [],
      "source": [
        "import sys, importlib\n",
        "sys.path.append('/home/lppou/IAM/Molecule_Engine')\n",
        "import iam_molecule_engine\n",
        "importlib.reload(iam_molecule_engine)\n",
        "from iam_molecule_engine import generate_xyz_from_smiles, compute_homo_lumo_xtb, generate_cube_files"
      ]
    },
    {
      "cell_type": "code",
      "execution_count": null,
      "metadata": {},
      "outputs": [],
      "source": [
        "# G\u00e9n\u00e9rer le fichier XYZ depuis le SMILES du nitrom\u00e9thane\n",
        "xyz_path = \"results/nitromethane.xyz\"\n",
        "generate_xyz_from_smiles(\"C[N+](=O)[O-]\", xyz_path)"
      ]
    },
    {
      "cell_type": "code",
      "execution_count": null,
      "metadata": {},
      "outputs": [],
      "source": [
        "# Calcul HOMO\u2013LUMO avec XTB\n",
        "summary = compute_homo_lumo_xtb(xyz_path)\n",
        "print(\"R\u00e9sum\u00e9 HOMO/LUMO :\")\n",
        "print(summary)"
      ]
    },
    {
      "cell_type": "code",
      "execution_count": null,
      "metadata": {},
      "outputs": [],
      "source": [
        "# G\u00e9n\u00e9ration des fichiers .cube pour visualisation orbitale\n",
        "cube_files = generate_cube_files(xyz_path)\n",
        "print(\"Fichiers .cube g\u00e9n\u00e9r\u00e9s :\", cube_files)"
      ]
    }
  ],
  "metadata": {
    "kernelspec": {
      "display_name": "Python 3 (ipykernel)",
      "language": "python",
      "name": "python3"
    },
    "language_info": {
      "name": "python",
      "version": "3.11"
    }
  },
  "nbformat": 4,
  "nbformat_minor": 2
}