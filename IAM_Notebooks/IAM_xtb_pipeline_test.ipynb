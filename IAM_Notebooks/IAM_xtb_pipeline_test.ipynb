{
 "cells": [
  {
   "cell_type": "markdown",
   "metadata": {},
   "source": [
    "# 🚀 IAM Molecule Engine — Pipeline XTB\n",
    "Génère la structure 3D d'une molécule à partir d'un SMILES, lance une optimisation avec XTB, extrait HOMO/LUMO et l'énergie totale."
   ]
  },
  {
   "cell_type": "code",
   "execution_count": null,
   "metadata": {},
   "outputs": [],
   "source": [
    "# 📦 Imports\n",
    "import sys, importlib, os\n",
    "sys.path.append('/home/lppou/IAM/Molecule_Engine')\n",
    "import iam_molecule_engine\n",
    "importlib.reload(iam_molecule_engine)\n",
    "from iam_molecule_engine import generate_xyz_from_smiles, run_xtb, parse_xtb_results, full_molecule_workflow"
   ]
  },
  {
   "cell_type": "code",
   "execution_count": null,
   "metadata": {},
   "outputs": [],
   "source": [
    "# ⚗️ Lancer le pipeline complet pour le Nitrométhane\n",
    "smiles = \"C[N+](=O)[O-]\"\n",
    "results = full_molecule_workflow(smiles, \"nitromethane\")\n",
    "for key, value in results.items():\n",
    "    print(f\"{key}: {value}\")"
   ]
  }
 ],
 "metadata": {
  "kernelspec": {
   "display_name": "Python 3 (ipykernel)",
   "language": "python",
   "name": "python3"
  },
  "language_info": {
   "name": "python",
   "version": "3.11"
  }
 },
 "nbformat": 4,
 "nbformat_minor": 5
}
