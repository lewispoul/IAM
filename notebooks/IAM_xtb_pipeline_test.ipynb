{
 "cells": [
  {
   "cell_type": "markdown",
   "id": "eca622b4",
   "metadata": {},
   "source": [
    "# 🚀 IAM Molecule Engine — Pipeline XTB\n",
    "Génère la structure 3D d'une molécule à partir d'un SMILES, lance une optimisation avec XTB, extrait HOMO/LUMO et l'énergie totale."
   ]
  },
  {
   "cell_type": "code",
   "execution_count": null,
   "id": "096d9d56",
   "metadata": {},
   "outputs": [],
   "source": []
  },
  {
   "cell_type": "code",
   "execution_count": 1,
   "id": "c9b285bd",
   "metadata": {},
   "outputs": [
    {
     "ename": "ModuleNotFoundError",
     "evalue": "No module named 'iam_molecule_engine'",
     "output_type": "error",
     "traceback": [
      "\u001b[1;31m---------------------------------------------------------------------------\u001b[0m",
      "\u001b[1;31mModuleNotFoundError\u001b[0m                       Traceback (most recent call last)",
      "Cell \u001b[1;32mIn[1], line 4\u001b[0m\n\u001b[0;32m      2\u001b[0m \u001b[38;5;28;01mimport\u001b[39;00m\u001b[38;5;250m \u001b[39m\u001b[38;5;21;01msys\u001b[39;00m\u001b[38;5;241m,\u001b[39m\u001b[38;5;250m \u001b[39m\u001b[38;5;21;01mimportlib\u001b[39;00m\u001b[38;5;241m,\u001b[39m\u001b[38;5;250m \u001b[39m\u001b[38;5;21;01mos\u001b[39;00m\n\u001b[0;32m      3\u001b[0m sys\u001b[38;5;241m.\u001b[39mpath\u001b[38;5;241m.\u001b[39mappend(\u001b[38;5;124m'\u001b[39m\u001b[38;5;124m/home/lppou/IAM/Molecule_Engine\u001b[39m\u001b[38;5;124m'\u001b[39m)\n\u001b[1;32m----> 4\u001b[0m \u001b[38;5;28;01mimport\u001b[39;00m\u001b[38;5;250m \u001b[39m\u001b[38;5;21;01miam_molecule_engine\u001b[39;00m\n\u001b[0;32m      5\u001b[0m importlib\u001b[38;5;241m.\u001b[39mreload(iam_molecule_engine)\n\u001b[0;32m      6\u001b[0m \u001b[38;5;28;01mfrom\u001b[39;00m\u001b[38;5;250m \u001b[39m\u001b[38;5;21;01miam_molecule_engine\u001b[39;00m\u001b[38;5;250m \u001b[39m\u001b[38;5;28;01mimport\u001b[39;00m generate_xyz_from_smiles, run_xtb, parse_xtb_results, full_molecule_workflow\n",
      "\u001b[1;31mModuleNotFoundError\u001b[0m: No module named 'iam_molecule_engine'"
     ]
    }
   ],
   "source": [
    "# 📦 Imports\n",
    "import sys, importlib, os\n",
    "sys.path.append('/home/lppou/IAM/Molecule_Engine')\n",
    "import iam_molecule_engine\n",
    "importlib.reload(iam_molecule_engine)\n",
    "from iam_molecule_engine import generate_xyz_from_smiles, run_xtb, parse_xtb_results, full_molecule_workflow"
   ]
  },
  {
   "cell_type": "code",
   "execution_count": null,
   "id": "6323d5d3",
   "metadata": {
    "scrolled": true
   },
   "outputs": [
    {
     "ename": "FileNotFoundError",
     "evalue": "/home/lppou/IAM/notebooks/notebooks/results/xtb.out not found",
     "output_type": "error",
     "traceback": [
      "\u001b[31m---------------------------------------------------------------------------\u001b[39m",
      "\u001b[31mFileNotFoundError\u001b[39m                         Traceback (most recent call last)",
      "\u001b[36mCell\u001b[39m\u001b[36m \u001b[39m\u001b[32mIn[2]\u001b[39m\u001b[32m, line 3\u001b[39m\n\u001b[32m      1\u001b[39m \u001b[38;5;66;03m# ⚗️ Lancer le pipeline complet pour le Nitrométhane\u001b[39;00m\n\u001b[32m      2\u001b[39m smiles = \u001b[33m\"\u001b[39m\u001b[33mC[N+](=O)[O-]\u001b[39m\u001b[33m\"\u001b[39m\n\u001b[32m----> \u001b[39m\u001b[32m3\u001b[39m results = \u001b[43mfull_molecule_workflow\u001b[49m\u001b[43m(\u001b[49m\u001b[43msmiles\u001b[49m\u001b[43m,\u001b[49m\u001b[43m \u001b[49m\u001b[33;43m\"\u001b[39;49m\u001b[33;43mnitromethane\u001b[39;49m\u001b[33;43m\"\u001b[39;49m\u001b[43m)\u001b[49m\n\u001b[32m      4\u001b[39m \u001b[38;5;28;01mfor\u001b[39;00m key, value \u001b[38;5;129;01min\u001b[39;00m results.items():\n\u001b[32m      5\u001b[39m     \u001b[38;5;28mprint\u001b[39m(\u001b[33mf\u001b[39m\u001b[33m\"\u001b[39m\u001b[38;5;132;01m{\u001b[39;00mkey\u001b[38;5;132;01m}\u001b[39;00m\u001b[33m: \u001b[39m\u001b[38;5;132;01m{\u001b[39;00mvalue\u001b[38;5;132;01m}\u001b[39;00m\u001b[33m\"\u001b[39m)\n",
      "\u001b[36mFile \u001b[39m\u001b[32m~/IAM/Molecule_Engine/iam_molecule_engine.py:75\u001b[39m, in \u001b[36mfull_molecule_workflow\u001b[39m\u001b[34m(smiles, name, results_dir)\u001b[39m\n\u001b[32m     72\u001b[39m generate_xyz_from_smiles(smiles, xyz_path)\n\u001b[32m     73\u001b[39m validate_xyz(xyz_path)\n\u001b[32m---> \u001b[39m\u001b[32m75\u001b[39m results = \u001b[43mrun_xtb\u001b[49m\u001b[43m(\u001b[49m\u001b[43mxyz_path\u001b[49m\u001b[43m,\u001b[49m\u001b[43m \u001b[49m\u001b[43moutput_dir\u001b[49m\u001b[43m)\u001b[49m\n\u001b[32m     76\u001b[39m results[\u001b[33m\"\u001b[39m\u001b[33mXYZ path\u001b[39m\u001b[33m\"\u001b[39m] = xyz_path\n\u001b[32m     77\u001b[39m \u001b[38;5;28;01mreturn\u001b[39;00m results\n",
      "\u001b[36mFile \u001b[39m\u001b[32m~/IAM/Molecule_Engine/iam_molecule_engine.py:51\u001b[39m, in \u001b[36mrun_xtb\u001b[39m\u001b[34m(xyz_path, output_dir)\u001b[39m\n\u001b[32m     49\u001b[39m \u001b[38;5;28;01mif\u001b[39;00m result.returncode != \u001b[32m0\u001b[39m:\n\u001b[32m     50\u001b[39m     \u001b[38;5;28;01mraise\u001b[39;00m \u001b[38;5;167;01mRuntimeError\u001b[39;00m(\u001b[33mf\u001b[39m\u001b[33m\"\u001b[39m\u001b[33mXTB failed:\u001b[39m\u001b[38;5;130;01m\\n\u001b[39;00m\u001b[38;5;132;01m{\u001b[39;00mresult.stderr\u001b[38;5;132;01m}\u001b[39;00m\u001b[33m\"\u001b[39m)\n\u001b[32m---> \u001b[39m\u001b[32m51\u001b[39m \u001b[38;5;28;01mreturn\u001b[39;00m \u001b[43mparse_xtb_results\u001b[49m\u001b[43m(\u001b[49m\u001b[43mos\u001b[49m\u001b[43m.\u001b[49m\u001b[43mpath\u001b[49m\u001b[43m.\u001b[49m\u001b[43mjoin\u001b[49m\u001b[43m(\u001b[49m\u001b[43moutput_dir\u001b[49m\u001b[43m,\u001b[49m\u001b[43m \u001b[49m\u001b[33;43m\"\u001b[39;49m\u001b[33;43mxtb.out\u001b[39;49m\u001b[33;43m\"\u001b[39;49m\u001b[43m)\u001b[49m\u001b[43m)\u001b[49m\n",
      "\u001b[36mFile \u001b[39m\u001b[32m~/IAM/Molecule_Engine/iam_molecule_engine.py:56\u001b[39m, in \u001b[36mparse_xtb_results\u001b[39m\u001b[34m(out_path)\u001b[39m\n\u001b[32m     54\u001b[39m results = {}\n\u001b[32m     55\u001b[39m \u001b[38;5;28;01mif\u001b[39;00m \u001b[38;5;129;01mnot\u001b[39;00m os.path.exists(out_path):\n\u001b[32m---> \u001b[39m\u001b[32m56\u001b[39m     \u001b[38;5;28;01mraise\u001b[39;00m \u001b[38;5;167;01mFileNotFoundError\u001b[39;00m(\u001b[33mf\u001b[39m\u001b[33m\"\u001b[39m\u001b[38;5;132;01m{\u001b[39;00mout_path\u001b[38;5;132;01m}\u001b[39;00m\u001b[33m not found\u001b[39m\u001b[33m\"\u001b[39m)\n\u001b[32m     57\u001b[39m \u001b[38;5;28;01mwith\u001b[39;00m \u001b[38;5;28mopen\u001b[39m(out_path, \u001b[33m\"\u001b[39m\u001b[33mr\u001b[39m\u001b[33m\"\u001b[39m) \u001b[38;5;28;01mas\u001b[39;00m f:\n\u001b[32m     58\u001b[39m     \u001b[38;5;28;01mfor\u001b[39;00m line \u001b[38;5;129;01min\u001b[39;00m f:\n",
      "\u001b[31mFileNotFoundError\u001b[39m: /home/lppou/IAM/notebooks/notebooks/results/xtb.out not found"
     ]
    }
   ],
   "source": [
    "# ⚗️ Lancer le pipeline complet pour le Nitrométhane\n",
    "smiles = \"C[N+](=O)[O-]\"\n",
    "results = full_molecule_workflow(smiles, \"nitromethane\")\n",
    "for key, value in results.items():\n",
    "    print(f\"{key}: {value}\")"
   ]
  },
  {
   "cell_type": "code",
   "execution_count": null,
   "id": "4f72d43e-9c7f-45bb-9488-f613b67f5121",
   "metadata": {},
   "outputs": [],
   "source": [
    "!which xtb\n",
    "!echo $PATH\n"
   ]
  },
  {
   "cell_type": "code",
   "execution_count": null,
   "id": "4b8b50df-5edf-4e44-bcbc-2128cff7bbb0",
   "metadata": {},
   "outputs": [],
   "source": []
  },
  {
   "cell_type": "code",
   "execution_count": null,
   "id": "0b889da0-f329-46f9-b8e7-dec02bea9ffd",
   "metadata": {},
   "outputs": [
    {
     "name": "stdout",
     "output_type": "stream",
     "text": [
      "      -----------------------------------------------------------      \n",
      "     |                   =====================                   |     \n",
      "     |                           x T B                           |     \n",
      "     |                   =====================                   |     \n",
      "     |                         S. Grimme                         |     \n",
      "     |          Mulliken Center for Theoretical Chemistry        |     \n",
      "     |                    University of Bonn                     |     \n",
      "      -----------------------------------------------------------      \n",
      "\n",
      "   * xtb version 6.5.1 (unknown) compiled by 'builduser@buildhost' on 2022-12-09\n",
      "\n",
      "\n"
     ]
    }
   ],
   "source": [
    "import subprocess\n",
    "import os\n",
    "\n",
    "env = os.environ.copy()\n",
    "env[\"PATH\"] = \"/home/lppou/xtb/build/bin:\" + env[\"PATH\"]\n",
    "\n",
    "result = subprocess.run([\"xtb\", \"--version\"], capture_output=True, text=True, env=env)\n",
    "print(result.stdout)\n"
   ]
  },
  {
   "cell_type": "code",
   "execution_count": null,
   "id": "62e73a38-ca02-4acd-8441-35bfbccea5f5",
   "metadata": {
    "scrolled": true
   },
   "outputs": [
    {
     "ename": "FileNotFoundError",
     "evalue": "/home/lppou/IAM/notebooks/notebooks/results/xtb.out not found",
     "output_type": "error",
     "traceback": [
      "\u001b[31m---------------------------------------------------------------------------\u001b[39m",
      "\u001b[31mFileNotFoundError\u001b[39m                         Traceback (most recent call last)",
      "\u001b[36mCell\u001b[39m\u001b[36m \u001b[39m\u001b[32mIn[6]\u001b[39m\u001b[32m, line 3\u001b[39m\n\u001b[32m      1\u001b[39m \u001b[38;5;28;01mfrom\u001b[39;00m\u001b[38;5;250m \u001b[39m\u001b[34;01miam_molecule_engine\u001b[39;00m\u001b[38;5;250m \u001b[39m\u001b[38;5;28;01mimport\u001b[39;00m full_molecule_workflow\n\u001b[32m----> \u001b[39m\u001b[32m3\u001b[39m results = \u001b[43mfull_molecule_workflow\u001b[49m\u001b[43m(\u001b[49m\u001b[33;43m\"\u001b[39;49m\u001b[33;43mC[N+](=O)[O-]\u001b[39;49m\u001b[33;43m\"\u001b[39;49m\u001b[43m,\u001b[49m\u001b[43m \u001b[49m\u001b[33;43m\"\u001b[39;49m\u001b[33;43mnitromethane\u001b[39;49m\u001b[33;43m\"\u001b[39;49m\u001b[43m)\u001b[49m\n\u001b[32m      4\u001b[39m results\n",
      "\u001b[36mFile \u001b[39m\u001b[32m~/IAM/Molecule_Engine/iam_molecule_engine.py:75\u001b[39m, in \u001b[36mfull_molecule_workflow\u001b[39m\u001b[34m(smiles, name, results_dir)\u001b[39m\n\u001b[32m     72\u001b[39m generate_xyz_from_smiles(smiles, xyz_path)\n\u001b[32m     73\u001b[39m validate_xyz(xyz_path)\n\u001b[32m---> \u001b[39m\u001b[32m75\u001b[39m results = \u001b[43mrun_xtb\u001b[49m\u001b[43m(\u001b[49m\u001b[43mxyz_path\u001b[49m\u001b[43m,\u001b[49m\u001b[43m \u001b[49m\u001b[43moutput_dir\u001b[49m\u001b[43m)\u001b[49m\n\u001b[32m     76\u001b[39m results[\u001b[33m\"\u001b[39m\u001b[33mXYZ path\u001b[39m\u001b[33m\"\u001b[39m] = xyz_path\n\u001b[32m     77\u001b[39m \u001b[38;5;28;01mreturn\u001b[39;00m results\n",
      "\u001b[36mFile \u001b[39m\u001b[32m~/IAM/Molecule_Engine/iam_molecule_engine.py:51\u001b[39m, in \u001b[36mrun_xtb\u001b[39m\u001b[34m(xyz_path, output_dir)\u001b[39m\n\u001b[32m     49\u001b[39m \u001b[38;5;28;01mif\u001b[39;00m result.returncode != \u001b[32m0\u001b[39m:\n\u001b[32m     50\u001b[39m     \u001b[38;5;28;01mraise\u001b[39;00m \u001b[38;5;167;01mRuntimeError\u001b[39;00m(\u001b[33mf\u001b[39m\u001b[33m\"\u001b[39m\u001b[33mXTB failed:\u001b[39m\u001b[38;5;130;01m\\n\u001b[39;00m\u001b[38;5;132;01m{\u001b[39;00mresult.stderr\u001b[38;5;132;01m}\u001b[39;00m\u001b[33m\"\u001b[39m)\n\u001b[32m---> \u001b[39m\u001b[32m51\u001b[39m \u001b[38;5;28;01mreturn\u001b[39;00m \u001b[43mparse_xtb_results\u001b[49m\u001b[43m(\u001b[49m\u001b[43mos\u001b[49m\u001b[43m.\u001b[49m\u001b[43mpath\u001b[49m\u001b[43m.\u001b[49m\u001b[43mjoin\u001b[49m\u001b[43m(\u001b[49m\u001b[43moutput_dir\u001b[49m\u001b[43m,\u001b[49m\u001b[43m \u001b[49m\u001b[33;43m\"\u001b[39;49m\u001b[33;43mxtb.out\u001b[39;49m\u001b[33;43m\"\u001b[39;49m\u001b[43m)\u001b[49m\u001b[43m)\u001b[49m\n",
      "\u001b[36mFile \u001b[39m\u001b[32m~/IAM/Molecule_Engine/iam_molecule_engine.py:56\u001b[39m, in \u001b[36mparse_xtb_results\u001b[39m\u001b[34m(out_path)\u001b[39m\n\u001b[32m     54\u001b[39m results = {}\n\u001b[32m     55\u001b[39m \u001b[38;5;28;01mif\u001b[39;00m \u001b[38;5;129;01mnot\u001b[39;00m os.path.exists(out_path):\n\u001b[32m---> \u001b[39m\u001b[32m56\u001b[39m     \u001b[38;5;28;01mraise\u001b[39;00m \u001b[38;5;167;01mFileNotFoundError\u001b[39;00m(\u001b[33mf\u001b[39m\u001b[33m\"\u001b[39m\u001b[38;5;132;01m{\u001b[39;00mout_path\u001b[38;5;132;01m}\u001b[39;00m\u001b[33m not found\u001b[39m\u001b[33m\"\u001b[39m)\n\u001b[32m     57\u001b[39m \u001b[38;5;28;01mwith\u001b[39;00m \u001b[38;5;28mopen\u001b[39m(out_path, \u001b[33m\"\u001b[39m\u001b[33mr\u001b[39m\u001b[33m\"\u001b[39m) \u001b[38;5;28;01mas\u001b[39;00m f:\n\u001b[32m     58\u001b[39m     \u001b[38;5;28;01mfor\u001b[39;00m line \u001b[38;5;129;01min\u001b[39;00m f:\n",
      "\u001b[31mFileNotFoundError\u001b[39m: /home/lppou/IAM/notebooks/notebooks/results/xtb.out not found"
     ]
    }
   ],
   "source": [
    "from iam_molecule_engine import full_molecule_workflow\n",
    "\n",
    "results = full_molecule_workflow(\"C[N+](=O)[O-]\", \"nitromethane\")\n",
    "results\n"
   ]
  },
  {
   "cell_type": "code",
   "execution_count": null,
   "id": "f068554c-a038-4a9f-b4a2-97a3d52ca606",
   "metadata": {},
   "outputs": [],
   "source": [
    "from iam_molecule_engine import full_molecule_workflow\n"
   ]
  },
  {
   "cell_type": "code",
   "execution_count": null,
   "id": "8e674c48-8c27-478c-b9ad-d34bff025cb4",
   "metadata": {
    "scrolled": true
   },
   "outputs": [],
   "source": [
    "results = full_molecule_workflow(\"C[N+](=O)[O-]\", \"nitromethane\", results_dir=\"notebooks/results\")\n"
   ]
  },
  {
   "cell_type": "code",
   "execution_count": null,
   "id": "785670b2-24a2-4b1a-bf8a-790858807291",
   "metadata": {},
   "outputs": [
    {
     "ename": "FileNotFoundError",
     "evalue": "/home/lppou/IAM/notebooks/notebooks/results/xtb.out not found",
     "output_type": "error",
     "traceback": [
      "\u001b[31m---------------------------------------------------------------------------\u001b[39m",
      "\u001b[31mFileNotFoundError\u001b[39m                         Traceback (most recent call last)",
      "\u001b[36mCell\u001b[39m\u001b[36m \u001b[39m\u001b[32mIn[7]\u001b[39m\u001b[32m, line 1\u001b[39m\n\u001b[32m----> \u001b[39m\u001b[32m1\u001b[39m results = \u001b[43mfull_molecule_workflow\u001b[49m\u001b[43m(\u001b[49m\u001b[33;43m\"\u001b[39;49m\u001b[33;43m[CH3][N+](=O)[O-]\u001b[39;49m\u001b[33;43m\"\u001b[39;49m\u001b[43m,\u001b[49m\u001b[43m \u001b[49m\u001b[33;43m\"\u001b[39;49m\u001b[33;43mnitromethane\u001b[39;49m\u001b[33;43m\"\u001b[39;49m\u001b[43m,\u001b[49m\u001b[43m \u001b[49m\u001b[43mresults_dir\u001b[49m\u001b[43m=\u001b[49m\u001b[33;43m\"\u001b[39;49m\u001b[33;43mnotebooks/results\u001b[39;49m\u001b[33;43m\"\u001b[39;49m\u001b[43m)\u001b[49m\n",
      "\u001b[36mFile \u001b[39m\u001b[32m~/IAM/Molecule_Engine/iam_molecule_engine.py:75\u001b[39m, in \u001b[36mfull_molecule_workflow\u001b[39m\u001b[34m(smiles, name, results_dir)\u001b[39m\n\u001b[32m     72\u001b[39m generate_xyz_from_smiles(smiles, xyz_path)\n\u001b[32m     73\u001b[39m validate_xyz(xyz_path)\n\u001b[32m---> \u001b[39m\u001b[32m75\u001b[39m results = \u001b[43mrun_xtb\u001b[49m\u001b[43m(\u001b[49m\u001b[43mxyz_path\u001b[49m\u001b[43m,\u001b[49m\u001b[43m \u001b[49m\u001b[43moutput_dir\u001b[49m\u001b[43m)\u001b[49m\n\u001b[32m     76\u001b[39m results[\u001b[33m\"\u001b[39m\u001b[33mXYZ path\u001b[39m\u001b[33m\"\u001b[39m] = xyz_path\n\u001b[32m     77\u001b[39m \u001b[38;5;28;01mreturn\u001b[39;00m results\n",
      "\u001b[36mFile \u001b[39m\u001b[32m~/IAM/Molecule_Engine/iam_molecule_engine.py:51\u001b[39m, in \u001b[36mrun_xtb\u001b[39m\u001b[34m(xyz_path, output_dir)\u001b[39m\n\u001b[32m     49\u001b[39m \u001b[38;5;28;01mif\u001b[39;00m result.returncode != \u001b[32m0\u001b[39m:\n\u001b[32m     50\u001b[39m     \u001b[38;5;28;01mraise\u001b[39;00m \u001b[38;5;167;01mRuntimeError\u001b[39;00m(\u001b[33mf\u001b[39m\u001b[33m\"\u001b[39m\u001b[33mXTB failed:\u001b[39m\u001b[38;5;130;01m\\n\u001b[39;00m\u001b[38;5;132;01m{\u001b[39;00mresult.stderr\u001b[38;5;132;01m}\u001b[39;00m\u001b[33m\"\u001b[39m)\n\u001b[32m---> \u001b[39m\u001b[32m51\u001b[39m \u001b[38;5;28;01mreturn\u001b[39;00m \u001b[43mparse_xtb_results\u001b[49m\u001b[43m(\u001b[49m\u001b[43mos\u001b[49m\u001b[43m.\u001b[49m\u001b[43mpath\u001b[49m\u001b[43m.\u001b[49m\u001b[43mjoin\u001b[49m\u001b[43m(\u001b[49m\u001b[43moutput_dir\u001b[49m\u001b[43m,\u001b[49m\u001b[43m \u001b[49m\u001b[33;43m\"\u001b[39;49m\u001b[33;43mxtb.out\u001b[39;49m\u001b[33;43m\"\u001b[39;49m\u001b[43m)\u001b[49m\u001b[43m)\u001b[49m\n",
      "\u001b[36mFile \u001b[39m\u001b[32m~/IAM/Molecule_Engine/iam_molecule_engine.py:56\u001b[39m, in \u001b[36mparse_xtb_results\u001b[39m\u001b[34m(out_path)\u001b[39m\n\u001b[32m     54\u001b[39m results = {}\n\u001b[32m     55\u001b[39m \u001b[38;5;28;01mif\u001b[39;00m \u001b[38;5;129;01mnot\u001b[39;00m os.path.exists(out_path):\n\u001b[32m---> \u001b[39m\u001b[32m56\u001b[39m     \u001b[38;5;28;01mraise\u001b[39;00m \u001b[38;5;167;01mFileNotFoundError\u001b[39;00m(\u001b[33mf\u001b[39m\u001b[33m\"\u001b[39m\u001b[38;5;132;01m{\u001b[39;00mout_path\u001b[38;5;132;01m}\u001b[39;00m\u001b[33m not found\u001b[39m\u001b[33m\"\u001b[39m)\n\u001b[32m     57\u001b[39m \u001b[38;5;28;01mwith\u001b[39;00m \u001b[38;5;28mopen\u001b[39m(out_path, \u001b[33m\"\u001b[39m\u001b[33mr\u001b[39m\u001b[33m\"\u001b[39m) \u001b[38;5;28;01mas\u001b[39;00m f:\n\u001b[32m     58\u001b[39m     \u001b[38;5;28;01mfor\u001b[39;00m line \u001b[38;5;129;01min\u001b[39;00m f:\n",
      "\u001b[31mFileNotFoundError\u001b[39m: /home/lppou/IAM/notebooks/notebooks/results/xtb.out not found"
     ]
    }
   ],
   "source": [
    "results = full_molecule_workflow(\"[CH3][N+](=O)[O-]\", \"nitromethane\", results_dir=\"notebooks/results\")\n"
   ]
  },
  {
   "cell_type": "code",
   "execution_count": null,
   "id": "92da383a-acdc-4c88-b0d1-491f52268c67",
   "metadata": {},
   "outputs": [],
   "source": []
  },
  {
   "cell_type": "code",
   "execution_count": null,
   "id": "ca49a9ba-3a18-4fd3-a48f-4c375f406dd3",
   "metadata": {},
   "outputs": [],
   "source": []
  },
  {
   "cell_type": "code",
   "execution_count": null,
   "id": "5559ca9a-80fc-466b-921e-2cc8ae5179ca",
   "metadata": {},
   "outputs": [],
   "source": []
  },
  {
   "cell_type": "code",
   "execution_count": null,
   "id": "0c27abfe-2967-42fd-82e0-e9d4aed2351b",
   "metadata": {},
   "outputs": [],
   "source": []
  },
  {
   "cell_type": "code",
   "execution_count": null,
   "id": "0a8ce331-a76c-4f88-bc8d-da0b06d816f0",
   "metadata": {},
   "outputs": [],
   "source": []
  }
 ],
 "metadata": {
  "kernelspec": {
   "display_name": "Python (chem-env)",
   "language": "python",
   "name": "chem-env"
  },
  "language_info": {
   "codemirror_mode": {
    "name": "ipython",
    "version": 3
   },
   "file_extension": ".py",
   "mimetype": "text/x-python",
   "name": "python",
   "nbconvert_exporter": "python",
   "pygments_lexer": "ipython3",
   "version": "3.10.17"
  }
 },
 "nbformat": 4,
 "nbformat_minor": 5
}
